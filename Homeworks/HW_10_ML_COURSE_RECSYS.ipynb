{
  "nbformat": 4,
  "nbformat_minor": 0,
  "metadata": {
    "colab": {
      "provenance": [],
      "machine_shape": "hm",
      "include_colab_link": true
    },
    "kernelspec": {
      "name": "python3",
      "display_name": "Python 3"
    }
  },
  "cells": [
    {
      "cell_type": "markdown",
      "metadata": {
        "id": "view-in-github",
        "colab_type": "text"
      },
      "source": [
        "<a href=\"https://colab.research.google.com/github/olvad/ML_course_openEdu/blob/main/Homeworks/HW_10_ML_COURSE_RECSYS.ipynb\" target=\"_parent\"><img src=\"https://colab.research.google.com/assets/colab-badge.svg\" alt=\"Open In Colab\"/></a>"
      ]
    },
    {
      "cell_type": "markdown",
      "metadata": {
        "id": "ychQcodwwgfp"
      },
      "source": [
        "В этом задании мы найдем похожие фильмы и пользователей по алгоритму ALS, реализуем подсчет метрики NDCG и исследуем влияние размерности скрытых представлений на работу алгоритма."
      ]
    },
    {
      "cell_type": "markdown",
      "metadata": {
        "id": "KGJjO0IwxAfE"
      },
      "source": [
        "Загрузим данные и модели из семинара:\n",
        "\n",
        "**Важно: не изменяйте код до задания 1!**"
      ]
    },
    {
      "cell_type": "code",
      "metadata": {
        "id": "HLW7bd6zw9zr"
      },
      "source": [
        "import zipfile\n",
        "from collections import defaultdict, Counter\n",
        "import datetime\n",
        "\n",
        "from scipy import linalg\n",
        "import numpy as np"
      ],
      "execution_count": null,
      "outputs": []
    },
    {
      "cell_type": "code",
      "metadata": {
        "id": "zEjB8eDVxLHT",
        "outputId": "cf16894d-3c07-463c-e382-7d01e797c101",
        "colab": {
          "base_uri": "https://localhost:8080/"
        }
      },
      "source": [
        "!wget http://files.grouplens.org/datasets/movielens/ml-1m.zip"
      ],
      "execution_count": null,
      "outputs": [
        {
          "output_type": "stream",
          "name": "stdout",
          "text": [
            "--2024-08-01 16:12:09--  http://files.grouplens.org/datasets/movielens/ml-1m.zip\n",
            "Resolving files.grouplens.org (files.grouplens.org)... 128.101.65.152\n",
            "Connecting to files.grouplens.org (files.grouplens.org)|128.101.65.152|:80... connected.\n",
            "HTTP request sent, awaiting response... 200 OK\n",
            "Length: 5917549 (5.6M) [application/zip]\n",
            "Saving to: ‘ml-1m.zip’\n",
            "\n",
            "ml-1m.zip           100%[===================>]   5.64M  26.7MB/s    in 0.2s    \n",
            "\n",
            "2024-08-01 16:12:09 (26.7 MB/s) - ‘ml-1m.zip’ saved [5917549/5917549]\n",
            "\n"
          ]
        }
      ]
    },
    {
      "cell_type": "code",
      "metadata": {
        "id": "CtB8oYg7qBzn"
      },
      "source": [
        "# read data\n",
        "movies = {} # id\n",
        "users = {} # id\n",
        "ratings = defaultdict(list) # user-id\n",
        "\n",
        "with zipfile.ZipFile(\"ml-1m.zip\", \"r\") as z:\n",
        "    # parse movies\n",
        "    with z.open(\"ml-1m/movies.dat\") as m:\n",
        "        for line in m:\n",
        "            MovieID, Title, Genres = line.decode('iso-8859-1').strip().split(\"::\")\n",
        "            MovieID = int(MovieID)\n",
        "            Genres = Genres.split(\"|\")\n",
        "            movies[MovieID] = {\"Title\": Title, \"Genres\": Genres}\n",
        "\n",
        "    # parse users\n",
        "    with z.open(\"ml-1m/users.dat\") as m:\n",
        "        fields = [\"UserID\", \"Gender\", \"Age\", \"Occupation\", \"Zip-code\"]\n",
        "        for line in m:\n",
        "            row = list(zip(fields, line.decode('iso-8859-1').strip().split(\"::\")))\n",
        "            data = dict(row[1:])\n",
        "            data[\"Occupation\"] = int(data[\"Occupation\"])\n",
        "            users[int(row[0][1])] = data\n",
        "\n",
        "    # parse ratings\n",
        "    with z.open(\"ml-1m/ratings.dat\") as m:\n",
        "        for line in m:\n",
        "            UserID, MovieID, Rating, Timestamp = line.decode('iso-8859-1').strip().split(\"::\")\n",
        "            UserID = int(UserID)\n",
        "            MovieID = int(MovieID)\n",
        "            Rating = int(Rating)\n",
        "            Timestamp = int(Timestamp)\n",
        "            ratings[UserID].append((MovieID, Rating, datetime.datetime.fromtimestamp(Timestamp)))"
      ],
      "execution_count": null,
      "outputs": []
    },
    {
      "cell_type": "code",
      "metadata": {
        "id": "x-JKj56U3myp",
        "outputId": "e4519fea-8415-4090-d529-485e1fc8d475",
        "colab": {
          "base_uri": "https://localhost:8080/"
        }
      },
      "source": [
        "# train-test split\n",
        "times = []\n",
        "for user_ratings in ratings.values():\n",
        "  times.extend([x[2] for x in user_ratings])\n",
        "times = sorted(times)\n",
        "threshold_time = times[int(0.8 * len(times))]\n",
        "\n",
        "train = []\n",
        "test = []\n",
        "for user_id, user_ratings in ratings.items():\n",
        "    train.extend((user_id, rating[0], rating[1] / 5.0) for rating in user_ratings if rating[2] <= threshold_time)\n",
        "    test.extend((user_id, rating[0], rating[1] / 5.0) for rating in user_ratings if rating[2] > threshold_time)\n",
        "print(\"ratings in train:\", len(train))\n",
        "print(\"ratings in test:\", len(test))"
      ],
      "execution_count": null,
      "outputs": [
        {
          "output_type": "stream",
          "name": "stdout",
          "text": [
            "ratings in train: 800168\n",
            "ratings in test: 200041\n"
          ]
        }
      ]
    },
    {
      "cell_type": "code",
      "metadata": {
        "id": "RNp-TT5M5JxM"
      },
      "source": [
        "train_by_user = defaultdict(list)\n",
        "test_by_user = defaultdict(list)\n",
        "for u, i, r in train:\n",
        "    train_by_user[u].append((i, r))\n",
        "for u, i, r in test:\n",
        "    test_by_user[u].append((i, r))\n",
        "\n",
        "train_by_item = defaultdict(list)\n",
        "for u, i, r in train:\n",
        "    train_by_item[i].append((u, r))\n",
        "\n",
        "n_users = max([e[0] for e in train]) + 1\n",
        "n_items = max([e[1] for e in train]) + 1"
      ],
      "execution_count": null,
      "outputs": []
    },
    {
      "cell_type": "code",
      "metadata": {
        "id": "uUOWdv1nraZ0",
        "outputId": "e67afb82-2c39-4e95-ba20-1bce5d444196",
        "colab": {
          "base_uri": "https://localhost:8080/"
        }
      },
      "source": [
        "%%time\n",
        "# Реализация ALS из семинара\n",
        "np.random.seed(0)\n",
        "LATENT_SIZE = 10\n",
        "N_ITER = 20\n",
        "\n",
        "# регуляризаторы\n",
        "lambda_p = 0.2\n",
        "lambda_q = 0.001\n",
        "\n",
        "# латентные представления\n",
        "p = 0.1 * np.random.random((n_users, LATENT_SIZE))\n",
        "q = 0.1 * np.random.random((n_items, LATENT_SIZE))\n",
        "\n",
        "\n",
        "def compute_p(p, q, train_by_user):\n",
        "    for u, rated in train_by_user.items():\n",
        "        rated_items = [i for i, _ in rated]\n",
        "        rated_scores = np.array([r for _, r in rated])\n",
        "        Q = q[rated_items, :]\n",
        "        A = (Q.T).dot(Q)\n",
        "        d = (Q.T).dot(rated_scores)\n",
        "        p[u, :] = np.linalg.solve(lambda_p * len(rated_items) * np.eye(LATENT_SIZE) + A, d)\n",
        "    return p\n",
        "\n",
        "def compute_q(p, q, train_by_item):\n",
        "    for i, rated in train_by_item.items():\n",
        "        rated_users = [j for j, _ in rated]\n",
        "        rated_scores = np.array([s for _, s in rated])\n",
        "        P = p[rated_users, :]\n",
        "        A = (P.T).dot(P)\n",
        "        d = (P.T).dot(rated_scores)\n",
        "        q[i, :] = np.linalg.solve(lambda_q * len(rated_users) * np.eye(LATENT_SIZE) + A, d)\n",
        "    return q\n",
        "\n",
        "def train_error_mse(predictions):\n",
        "    return np.mean([(predictions[u, i] - r) ** 2 for u, i, r in train])\n",
        "\n",
        "def test_error_mse(predictions):\n",
        "    return np.mean([(predictions[u, i] - r) ** 2 for u, i, r in test])\n",
        "\n",
        "\n",
        "for iter in range(N_ITER):\n",
        "    p = compute_p(p, q, train_by_user)\n",
        "    q = compute_q(p, q, train_by_item)\n",
        "\n",
        "    predictions = p.dot(q.T)\n",
        "\n",
        "    print(iter, train_error_mse(predictions), test_error_mse(predictions))"
      ],
      "execution_count": null,
      "outputs": [
        {
          "output_type": "stream",
          "name": "stdout",
          "text": [
            "0 0.034254066990950016 0.16161048497212951\n",
            "1 0.030645740984182004 0.15155084906221655\n",
            "2 0.027045334327151088 0.14384734040494065\n",
            "3 0.025813288873051232 0.1369731449899051\n",
            "4 0.025347613143060384 0.13077566964080364\n",
            "5 0.02509638013540347 0.12524794035311057\n",
            "6 0.02493404752684068 0.12031008916560125\n",
            "7 0.02482027996454204 0.11587970123247371\n",
            "8 0.02473748090535384 0.11188957847429643\n",
            "9 0.024677350034760324 0.1082859231790354\n",
            "10 0.024634483994446333 0.10502502426863132\n",
            "11 0.024604361404763415 0.10207014908552949\n",
            "12 0.024583346331205864 0.09938950190571325\n",
            "13 0.024568755099793158 0.09695506282023533\n",
            "14 0.024558698531058874 0.09474199207447921\n",
            "15 0.024551877533063843 0.09272824318660171\n",
            "16 0.02454739123798561 0.09089423607528814\n",
            "17 0.024544605124752126 0.08922255977615293\n",
            "18 0.02454306682449277 0.08769769701279093\n",
            "19 0.024542448316282706 0.08630578168734016\n",
            "CPU times: user 51.4 s, sys: 27.3 s, total: 1min 18s\n",
            "Wall time: 1min\n"
          ]
        }
      ]
    },
    {
      "cell_type": "markdown",
      "metadata": {
        "id": "jHSZg06G6nzZ"
      },
      "source": [
        "## Задание 1\n",
        "\n",
        "Для фильма \"Star Wars: Episode V - The Empire Strikes Back (1980)\" найдите 3 самых похожих фильма:\n",
        "* посчитайте скалярное произведение его эмбеддинга с остальными фильмами;\n",
        "* найдите максимальные значения - они будут соответствовать ближайшим фильмам;\n",
        "* вычислите значение id_top1+id_top2+id_top3.\n",
        "\n",
        "Для решения задания вам пригодится словарь со всеми фильмами `movies`"
      ]
    },
    {
      "cell_type": "code",
      "metadata": {
        "id": "s0C7tKokDAin",
        "colab": {
          "base_uri": "https://localhost:8080/"
        },
        "outputId": "efc25096-0d5e-4f87-d2ca-28a0fd660b97"
      },
      "source": [
        "for id, film in movies.items():\n",
        "  for genres, title in film.items():\n",
        "    if title == 'Star Wars: Episode V - The Empire Strikes Back (1980)':\n",
        "      index = id\n",
        "\n",
        "index"
      ],
      "execution_count": null,
      "outputs": [
        {
          "output_type": "execute_result",
          "data": {
            "text/plain": [
              "1196"
            ]
          },
          "metadata": {},
          "execution_count": 12
        }
      ]
    },
    {
      "cell_type": "code",
      "source": [
        "arr = q[index] @ q.T"
      ],
      "metadata": {
        "id": "rWARlIbJuwwO"
      },
      "execution_count": null,
      "outputs": []
    },
    {
      "cell_type": "code",
      "source": [
        "text = ('1:', '2:', '3:', '4:')\n",
        "for num,txt in zip(reversed(sorted(set(arr))),text):\n",
        "    res = ','.join(map(str,[i for i,n in enumerate(arr) if n == num]))\n",
        "    print(f'top {txt}  index: {res}')\n"
      ],
      "metadata": {
        "colab": {
          "base_uri": "https://localhost:8080/"
        },
        "id": "k3fNjPd3v3bA",
        "outputId": "e3fc673a-d470-4308-9a3d-1f572e29eefa"
      },
      "execution_count": null,
      "outputs": [
        {
          "output_type": "stream",
          "name": "stdout",
          "text": [
            "top 1:  index: 260\n",
            "top 2:  index: 811\n",
            "top 3:  index: 1196\n",
            "top 4:  index: 1420\n"
          ]
        }
      ]
    },
    {
      "cell_type": "code",
      "source": [
        "260 + 811 + 1196"
      ],
      "metadata": {
        "colab": {
          "base_uri": "https://localhost:8080/"
        },
        "id": "MwPGFxUDxOLD",
        "outputId": "56d7e3c2-f182-41d6-e953-b144c4cbcb60"
      },
      "execution_count": null,
      "outputs": [
        {
          "output_type": "execute_result",
          "data": {
            "text/plain": [
              "2267"
            ]
          },
          "metadata": {},
          "execution_count": 23
        }
      ]
    },
    {
      "cell_type": "markdown",
      "metadata": {
        "id": "DIqC8Vvc61oZ"
      },
      "source": [
        "## Задание 2\n",
        "\n",
        "Для пользователя с ID=5472:\n",
        "\n",
        "* Найдите самого похожего, аналогично предыдущему заданию;\n",
        "* Определите количество фильмов, просмотренных обоими пользователями."
      ]
    },
    {
      "cell_type": "code",
      "metadata": {
        "id": "I-nrhZhJJsA3",
        "colab": {
          "base_uri": "https://localhost:8080/"
        },
        "outputId": "0614855c-f8be-4464-9bc4-f6c44a94fa11"
      },
      "source": [
        "user = 5472\n",
        "pdots = [k.dot(p[user]) for k in p]\n",
        "\n",
        "text = ('1:', '2:', '3:', '4:')\n",
        "for num,txt in zip(reversed(sorted(set(pdots))),text):\n",
        "    res = ','.join(map(str,[i for i,n in enumerate(pdots) if n == num]))\n",
        "    print(f'top {txt}  index: {res}')\n"
      ],
      "execution_count": null,
      "outputs": [
        {
          "output_type": "stream",
          "name": "stdout",
          "text": [
            "top 1:  index: 5072\n",
            "top 2:  index: 3799\n",
            "top 3:  index: 1221\n",
            "top 4:  index: 4565\n"
          ]
        }
      ]
    },
    {
      "cell_type": "code",
      "source": [
        "np.argmax(pdots)\n",
        "pdots[5072]"
      ],
      "metadata": {
        "colab": {
          "base_uri": "https://localhost:8080/"
        },
        "id": "e5m7D8-4xtG-",
        "outputId": "d5c384c2-9fec-4f9a-ef77-b5e6b85ab117"
      },
      "execution_count": null,
      "outputs": [
        {
          "output_type": "execute_result",
          "data": {
            "text/plain": [
              "0.07643871184402454"
            ]
          },
          "metadata": {},
          "execution_count": 25
        }
      ]
    },
    {
      "cell_type": "code",
      "source": [
        "user1 = ratings[5072]\n",
        "user2 = ratings[5472]\n",
        "A = []\n",
        "B = []\n",
        "for us in user1:\n",
        "    A.append(us[0])\n",
        "\n",
        "for us in user2:\n",
        "  B.append(us[0])\n",
        "\n",
        "A, B = np.array(A), np.array(B)\n",
        "\n",
        "len(np.intersect1d(A, B))"
      ],
      "metadata": {
        "colab": {
          "base_uri": "https://localhost:8080/"
        },
        "id": "YhDD2kdDxxRR",
        "outputId": "8dbd7b16-5b3b-44a8-c8ad-e6403d1706ff"
      },
      "execution_count": null,
      "outputs": [
        {
          "output_type": "execute_result",
          "data": {
            "text/plain": [
              "27"
            ]
          },
          "metadata": {},
          "execution_count": 27
        }
      ]
    },
    {
      "cell_type": "markdown",
      "metadata": {
        "id": "Ii1vd6YQ61rc"
      },
      "source": [
        "## Задание 3\n",
        "\n",
        "На лекции была рассмотрена метрика для измерения качества работы рекомендательной системы NDCG. Вам необходимо реализовать подсчет DCG и NDCG и вывести значения из клетки ниже; ответ округлите до тысячных."
      ]
    },
    {
      "cell_type": "code",
      "metadata": {
        "id": "LaBKmDX_MpUM",
        "colab": {
          "base_uri": "https://localhost:8080/"
        },
        "outputId": "a1c6caca-1736-4916-b0b6-7c41e15b7f06"
      },
      "source": [
        "import numpy as np\n",
        "\n",
        "def DCG_k(ratings_list, k):\n",
        "    '''\n",
        "    ratings_list: np.array(n_items,)\n",
        "    k: int\n",
        "    '''\n",
        "    dsg = 0\n",
        "\n",
        "    inde = [x for x, _ in enumerate(ratings_list)]\n",
        "    rat = np.column_stack((ratings_list, inde))\n",
        "\n",
        "\n",
        "    cnt = 0\n",
        "    for i in rat:\n",
        "        if cnt < k:\n",
        "            dsg_i = (2 ** i[0] - 1) / np.log2(i[1] + 2)\n",
        "            dsg += dsg_i\n",
        "            cnt += 1\n",
        "\n",
        "    return dsg\n",
        "\n",
        "def NDCG_k(r, k):\n",
        "    '''\n",
        "    ratings_list: np.array(n_items,)\n",
        "    k: int\n",
        "    '''\n",
        "\n",
        "    z = sorted(r, reverse=True)\n",
        "\n",
        "\n",
        "    ndsg = DCG_k(r, k) / DCG_k(z, k)\n",
        "\n",
        "    return ndsg\n",
        "\n",
        "\n",
        "ratings_list = [5, 5, 4, 5, 2, 4, 5, 3, 5, 5, 2, 3, 0, 0, 1, 2, 2, 3, 0]\n",
        "k = 5\n",
        "ndcg_value = NDCG_k(ratings_list, k)\n",
        "\n",
        "print(f\"NDCG@{k}: {ndcg_value:.3f}\")\n"
      ],
      "execution_count": null,
      "outputs": [
        {
          "output_type": "stream",
          "name": "stdout",
          "text": [
            "NDCG@5: 0.794\n"
          ]
        }
      ]
    }
  ]
}