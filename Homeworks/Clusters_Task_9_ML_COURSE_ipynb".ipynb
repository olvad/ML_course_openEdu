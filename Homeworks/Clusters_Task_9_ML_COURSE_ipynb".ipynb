{
  "nbformat": 4,
  "nbformat_minor": 0,
  "metadata": {
    "colab": {
      "provenance": [],
      "include_colab_link": true
    },
    "kernelspec": {
      "name": "python3",
      "display_name": "Python 3"
    }
  },
  "cells": [
    {
      "cell_type": "markdown",
      "metadata": {
        "id": "view-in-github",
        "colab_type": "text"
      },
      "source": [
        "<a href=\"https://colab.research.google.com/github/olvad/ML_course_openEdu/blob/main/Homeworks/Clusters_Task_9_ML_COURSE_ipynb%22.ipynb\" target=\"_parent\"><img src=\"https://colab.research.google.com/assets/colab-badge.svg\" alt=\"Open In Colab\"/></a>"
      ]
    },
    {
      "cell_type": "markdown",
      "metadata": {
        "id": "rEBJMPpFJbrC"
      },
      "source": [
        "Скачайте данные классификации листьев растений по ссылке.\n",
        "https://www.kaggle.com/datasets/utkarshx27/one-hundred-plant-species-leaves?select=data_Mar_64.txt"
      ]
    },
    {
      "cell_type": "markdown",
      "metadata": {
        "id": "bdxYP4mnLLnc"
      },
      "source": [
        "Загрузим файл `data_Mar_64.txt`."
      ]
    },
    {
      "cell_type": "code",
      "metadata": {
        "id": "doQ_W-xxJXA-",
        "outputId": "adc5e30c-4aab-497a-f98d-4751cd959ee1",
        "colab": {
          "base_uri": "https://localhost:8080/"
        }
      },
      "source": [
        "import pandas as pd\n",
        "import numpy as np\n",
        "\n",
        "\n",
        "!gdown --id 1OToqKQiVSJmKwU8QItCMhGfhAfn3eTB-"
      ],
      "execution_count": null,
      "outputs": [
        {
          "output_type": "stream",
          "name": "stdout",
          "text": [
            "/usr/local/lib/python3.10/dist-packages/gdown/__main__.py:132: FutureWarning: Option `--id` was deprecated in version 4.3.1 and will be removed in 5.0. You don't need to pass it anymore to use a file ID.\n",
            "  warnings.warn(\n",
            "Downloading...\n",
            "From: https://drive.google.com/uc?id=1OToqKQiVSJmKwU8QItCMhGfhAfn3eTB-\n",
            "To: /content/data_Mar_64.txt.zip\n",
            "100% 114k/114k [00:00<00:00, 67.4MB/s]\n"
          ]
        }
      ]
    },
    {
      "cell_type": "code",
      "source": [
        "!unzip '/content/data_Mar_64.txt.zip'"
      ],
      "metadata": {
        "colab": {
          "base_uri": "https://localhost:8080/"
        },
        "id": "6UJFaqgb5sWf",
        "outputId": "63094f65-5608-4482-d219-f053ed2cadf7"
      },
      "execution_count": null,
      "outputs": [
        {
          "output_type": "stream",
          "name": "stdout",
          "text": [
            "Archive:  /content/data_Mar_64.txt.zip\n",
            "  inflating: data_Mar_64.txt         \n"
          ]
        }
      ]
    },
    {
      "cell_type": "code",
      "metadata": {
        "id": "LqIPU1u3LTvw"
      },
      "source": [
        "data = pd.read_csv('data_Mar_64.txt', header=None)"
      ],
      "execution_count": null,
      "outputs": []
    },
    {
      "cell_type": "code",
      "source": [
        "data"
      ],
      "metadata": {
        "colab": {
          "base_uri": "https://localhost:8080/",
          "height": 609
        },
        "id": "T7OPwv7n5zPi",
        "outputId": "c798ba8c-33a8-4b39-a864-2a7cd1a36c9b"
      },
      "execution_count": null,
      "outputs": [
        {
          "output_type": "execute_result",
          "data": {
            "text/plain": [
              "                   0         1         2         3         4         5   \\\n",
              "0      Acer Campestre  0.003906  0.003906  0.027344  0.033203  0.007812   \n",
              "1      Acer Campestre  0.005859  0.013672  0.027344  0.025391  0.013672   \n",
              "2      Acer Campestre  0.011719  0.001953  0.027344  0.044922  0.017578   \n",
              "3      Acer Campestre  0.013672  0.011719  0.037109  0.017578  0.011719   \n",
              "4      Acer Campestre  0.007812  0.009766  0.027344  0.025391  0.001953   \n",
              "...               ...       ...       ...       ...       ...       ...   \n",
              "1595  Zelkova Serrata  0.035156  0.027344  0.005859  0.005859  0.007812   \n",
              "1596  Zelkova Serrata  0.015625  0.009766  0.000000  0.001953  0.015625   \n",
              "1597  Zelkova Serrata  0.013672  0.005859  0.007812  0.003906  0.015625   \n",
              "1598  Zelkova Serrata  0.015625  0.015625  0.011719  0.000000  0.007812   \n",
              "1599  Zelkova Serrata  0.019531  0.013672  0.007812  0.001953  0.007812   \n",
              "\n",
              "            6         7         8         9   ...        55        56  \\\n",
              "0     0.017578  0.023438  0.005859  0.000000  ...  0.011719  0.000000   \n",
              "1     0.029297  0.019531  0.000000  0.001953  ...  0.017578  0.000000   \n",
              "2     0.042969  0.023438  0.000000  0.003906  ...  0.035156  0.000000   \n",
              "3     0.087891  0.023438  0.000000  0.000000  ...  0.015625  0.001953   \n",
              "4     0.005859  0.015625  0.000000  0.005859  ...  0.023438  0.001953   \n",
              "...        ...       ...       ...       ...  ...       ...       ...   \n",
              "1595  0.027344  0.035156  0.000000  0.011719  ...  0.023438  0.011719   \n",
              "1596  0.033203  0.080078  0.000000  0.005859  ...  0.056641  0.007812   \n",
              "1597  0.013672  0.078125  0.000000  0.007812  ...  0.039062  0.003906   \n",
              "1598  0.015625  0.060547  0.000000  0.003906  ...  0.050781  0.015625   \n",
              "1599  0.025391  0.046875  0.000000  0.007812  ...  0.031250  0.003906   \n",
              "\n",
              "            57        58        59        60        61        62        63  \\\n",
              "0     0.005859  0.035156  0.027344  0.033203  0.001953  0.000000  0.017578   \n",
              "1     0.021484  0.017578  0.046875  0.005859  0.003906  0.003906  0.046875   \n",
              "2     0.015625  0.021484  0.056641  0.009766  0.003906  0.000000  0.015625   \n",
              "3     0.021484  0.029297  0.033203  0.003906  0.000000  0.001953  0.027344   \n",
              "4     0.021484  0.048828  0.056641  0.019531  0.000000  0.000000  0.013672   \n",
              "...        ...       ...       ...       ...       ...       ...       ...   \n",
              "1595  0.013672  0.015625  0.003906  0.011719  0.000000  0.015625  0.003906   \n",
              "1596  0.001953  0.005859  0.007812  0.009766  0.000000  0.035156  0.003906   \n",
              "1597  0.013672  0.003906  0.003906  0.013672  0.000000  0.037109  0.009766   \n",
              "1598  0.001953  0.005859  0.000000  0.017578  0.000000  0.011719  0.003906   \n",
              "1599  0.017578  0.015625  0.003906  0.007812  0.003906  0.029297  0.005859   \n",
              "\n",
              "            64  \n",
              "0     0.000000  \n",
              "1     0.000000  \n",
              "2     0.000000  \n",
              "3     0.000000  \n",
              "4     0.000000  \n",
              "...        ...  \n",
              "1595  0.000000  \n",
              "1596  0.015625  \n",
              "1597  0.009766  \n",
              "1598  0.009766  \n",
              "1599  0.031250  \n",
              "\n",
              "[1600 rows x 65 columns]"
            ],
            "text/html": [
              "\n",
              "  <div id=\"df-4531aa2c-f701-44b5-969e-4929d839449f\" class=\"colab-df-container\">\n",
              "    <div>\n",
              "<style scoped>\n",
              "    .dataframe tbody tr th:only-of-type {\n",
              "        vertical-align: middle;\n",
              "    }\n",
              "\n",
              "    .dataframe tbody tr th {\n",
              "        vertical-align: top;\n",
              "    }\n",
              "\n",
              "    .dataframe thead th {\n",
              "        text-align: right;\n",
              "    }\n",
              "</style>\n",
              "<table border=\"1\" class=\"dataframe\">\n",
              "  <thead>\n",
              "    <tr style=\"text-align: right;\">\n",
              "      <th></th>\n",
              "      <th>0</th>\n",
              "      <th>1</th>\n",
              "      <th>2</th>\n",
              "      <th>3</th>\n",
              "      <th>4</th>\n",
              "      <th>5</th>\n",
              "      <th>6</th>\n",
              "      <th>7</th>\n",
              "      <th>8</th>\n",
              "      <th>9</th>\n",
              "      <th>...</th>\n",
              "      <th>55</th>\n",
              "      <th>56</th>\n",
              "      <th>57</th>\n",
              "      <th>58</th>\n",
              "      <th>59</th>\n",
              "      <th>60</th>\n",
              "      <th>61</th>\n",
              "      <th>62</th>\n",
              "      <th>63</th>\n",
              "      <th>64</th>\n",
              "    </tr>\n",
              "  </thead>\n",
              "  <tbody>\n",
              "    <tr>\n",
              "      <th>0</th>\n",
              "      <td>Acer Campestre</td>\n",
              "      <td>0.003906</td>\n",
              "      <td>0.003906</td>\n",
              "      <td>0.027344</td>\n",
              "      <td>0.033203</td>\n",
              "      <td>0.007812</td>\n",
              "      <td>0.017578</td>\n",
              "      <td>0.023438</td>\n",
              "      <td>0.005859</td>\n",
              "      <td>0.000000</td>\n",
              "      <td>...</td>\n",
              "      <td>0.011719</td>\n",
              "      <td>0.000000</td>\n",
              "      <td>0.005859</td>\n",
              "      <td>0.035156</td>\n",
              "      <td>0.027344</td>\n",
              "      <td>0.033203</td>\n",
              "      <td>0.001953</td>\n",
              "      <td>0.000000</td>\n",
              "      <td>0.017578</td>\n",
              "      <td>0.000000</td>\n",
              "    </tr>\n",
              "    <tr>\n",
              "      <th>1</th>\n",
              "      <td>Acer Campestre</td>\n",
              "      <td>0.005859</td>\n",
              "      <td>0.013672</td>\n",
              "      <td>0.027344</td>\n",
              "      <td>0.025391</td>\n",
              "      <td>0.013672</td>\n",
              "      <td>0.029297</td>\n",
              "      <td>0.019531</td>\n",
              "      <td>0.000000</td>\n",
              "      <td>0.001953</td>\n",
              "      <td>...</td>\n",
              "      <td>0.017578</td>\n",
              "      <td>0.000000</td>\n",
              "      <td>0.021484</td>\n",
              "      <td>0.017578</td>\n",
              "      <td>0.046875</td>\n",
              "      <td>0.005859</td>\n",
              "      <td>0.003906</td>\n",
              "      <td>0.003906</td>\n",
              "      <td>0.046875</td>\n",
              "      <td>0.000000</td>\n",
              "    </tr>\n",
              "    <tr>\n",
              "      <th>2</th>\n",
              "      <td>Acer Campestre</td>\n",
              "      <td>0.011719</td>\n",
              "      <td>0.001953</td>\n",
              "      <td>0.027344</td>\n",
              "      <td>0.044922</td>\n",
              "      <td>0.017578</td>\n",
              "      <td>0.042969</td>\n",
              "      <td>0.023438</td>\n",
              "      <td>0.000000</td>\n",
              "      <td>0.003906</td>\n",
              "      <td>...</td>\n",
              "      <td>0.035156</td>\n",
              "      <td>0.000000</td>\n",
              "      <td>0.015625</td>\n",
              "      <td>0.021484</td>\n",
              "      <td>0.056641</td>\n",
              "      <td>0.009766</td>\n",
              "      <td>0.003906</td>\n",
              "      <td>0.000000</td>\n",
              "      <td>0.015625</td>\n",
              "      <td>0.000000</td>\n",
              "    </tr>\n",
              "    <tr>\n",
              "      <th>3</th>\n",
              "      <td>Acer Campestre</td>\n",
              "      <td>0.013672</td>\n",
              "      <td>0.011719</td>\n",
              "      <td>0.037109</td>\n",
              "      <td>0.017578</td>\n",
              "      <td>0.011719</td>\n",
              "      <td>0.087891</td>\n",
              "      <td>0.023438</td>\n",
              "      <td>0.000000</td>\n",
              "      <td>0.000000</td>\n",
              "      <td>...</td>\n",
              "      <td>0.015625</td>\n",
              "      <td>0.001953</td>\n",
              "      <td>0.021484</td>\n",
              "      <td>0.029297</td>\n",
              "      <td>0.033203</td>\n",
              "      <td>0.003906</td>\n",
              "      <td>0.000000</td>\n",
              "      <td>0.001953</td>\n",
              "      <td>0.027344</td>\n",
              "      <td>0.000000</td>\n",
              "    </tr>\n",
              "    <tr>\n",
              "      <th>4</th>\n",
              "      <td>Acer Campestre</td>\n",
              "      <td>0.007812</td>\n",
              "      <td>0.009766</td>\n",
              "      <td>0.027344</td>\n",
              "      <td>0.025391</td>\n",
              "      <td>0.001953</td>\n",
              "      <td>0.005859</td>\n",
              "      <td>0.015625</td>\n",
              "      <td>0.000000</td>\n",
              "      <td>0.005859</td>\n",
              "      <td>...</td>\n",
              "      <td>0.023438</td>\n",
              "      <td>0.001953</td>\n",
              "      <td>0.021484</td>\n",
              "      <td>0.048828</td>\n",
              "      <td>0.056641</td>\n",
              "      <td>0.019531</td>\n",
              "      <td>0.000000</td>\n",
              "      <td>0.000000</td>\n",
              "      <td>0.013672</td>\n",
              "      <td>0.000000</td>\n",
              "    </tr>\n",
              "    <tr>\n",
              "      <th>...</th>\n",
              "      <td>...</td>\n",
              "      <td>...</td>\n",
              "      <td>...</td>\n",
              "      <td>...</td>\n",
              "      <td>...</td>\n",
              "      <td>...</td>\n",
              "      <td>...</td>\n",
              "      <td>...</td>\n",
              "      <td>...</td>\n",
              "      <td>...</td>\n",
              "      <td>...</td>\n",
              "      <td>...</td>\n",
              "      <td>...</td>\n",
              "      <td>...</td>\n",
              "      <td>...</td>\n",
              "      <td>...</td>\n",
              "      <td>...</td>\n",
              "      <td>...</td>\n",
              "      <td>...</td>\n",
              "      <td>...</td>\n",
              "      <td>...</td>\n",
              "    </tr>\n",
              "    <tr>\n",
              "      <th>1595</th>\n",
              "      <td>Zelkova Serrata</td>\n",
              "      <td>0.035156</td>\n",
              "      <td>0.027344</td>\n",
              "      <td>0.005859</td>\n",
              "      <td>0.005859</td>\n",
              "      <td>0.007812</td>\n",
              "      <td>0.027344</td>\n",
              "      <td>0.035156</td>\n",
              "      <td>0.000000</td>\n",
              "      <td>0.011719</td>\n",
              "      <td>...</td>\n",
              "      <td>0.023438</td>\n",
              "      <td>0.011719</td>\n",
              "      <td>0.013672</td>\n",
              "      <td>0.015625</td>\n",
              "      <td>0.003906</td>\n",
              "      <td>0.011719</td>\n",
              "      <td>0.000000</td>\n",
              "      <td>0.015625</td>\n",
              "      <td>0.003906</td>\n",
              "      <td>0.000000</td>\n",
              "    </tr>\n",
              "    <tr>\n",
              "      <th>1596</th>\n",
              "      <td>Zelkova Serrata</td>\n",
              "      <td>0.015625</td>\n",
              "      <td>0.009766</td>\n",
              "      <td>0.000000</td>\n",
              "      <td>0.001953</td>\n",
              "      <td>0.015625</td>\n",
              "      <td>0.033203</td>\n",
              "      <td>0.080078</td>\n",
              "      <td>0.000000</td>\n",
              "      <td>0.005859</td>\n",
              "      <td>...</td>\n",
              "      <td>0.056641</td>\n",
              "      <td>0.007812</td>\n",
              "      <td>0.001953</td>\n",
              "      <td>0.005859</td>\n",
              "      <td>0.007812</td>\n",
              "      <td>0.009766</td>\n",
              "      <td>0.000000</td>\n",
              "      <td>0.035156</td>\n",
              "      <td>0.003906</td>\n",
              "      <td>0.015625</td>\n",
              "    </tr>\n",
              "    <tr>\n",
              "      <th>1597</th>\n",
              "      <td>Zelkova Serrata</td>\n",
              "      <td>0.013672</td>\n",
              "      <td>0.005859</td>\n",
              "      <td>0.007812</td>\n",
              "      <td>0.003906</td>\n",
              "      <td>0.015625</td>\n",
              "      <td>0.013672</td>\n",
              "      <td>0.078125</td>\n",
              "      <td>0.000000</td>\n",
              "      <td>0.007812</td>\n",
              "      <td>...</td>\n",
              "      <td>0.039062</td>\n",
              "      <td>0.003906</td>\n",
              "      <td>0.013672</td>\n",
              "      <td>0.003906</td>\n",
              "      <td>0.003906</td>\n",
              "      <td>0.013672</td>\n",
              "      <td>0.000000</td>\n",
              "      <td>0.037109</td>\n",
              "      <td>0.009766</td>\n",
              "      <td>0.009766</td>\n",
              "    </tr>\n",
              "    <tr>\n",
              "      <th>1598</th>\n",
              "      <td>Zelkova Serrata</td>\n",
              "      <td>0.015625</td>\n",
              "      <td>0.015625</td>\n",
              "      <td>0.011719</td>\n",
              "      <td>0.000000</td>\n",
              "      <td>0.007812</td>\n",
              "      <td>0.015625</td>\n",
              "      <td>0.060547</td>\n",
              "      <td>0.000000</td>\n",
              "      <td>0.003906</td>\n",
              "      <td>...</td>\n",
              "      <td>0.050781</td>\n",
              "      <td>0.015625</td>\n",
              "      <td>0.001953</td>\n",
              "      <td>0.005859</td>\n",
              "      <td>0.000000</td>\n",
              "      <td>0.017578</td>\n",
              "      <td>0.000000</td>\n",
              "      <td>0.011719</td>\n",
              "      <td>0.003906</td>\n",
              "      <td>0.009766</td>\n",
              "    </tr>\n",
              "    <tr>\n",
              "      <th>1599</th>\n",
              "      <td>Zelkova Serrata</td>\n",
              "      <td>0.019531</td>\n",
              "      <td>0.013672</td>\n",
              "      <td>0.007812</td>\n",
              "      <td>0.001953</td>\n",
              "      <td>0.007812</td>\n",
              "      <td>0.025391</td>\n",
              "      <td>0.046875</td>\n",
              "      <td>0.000000</td>\n",
              "      <td>0.007812</td>\n",
              "      <td>...</td>\n",
              "      <td>0.031250</td>\n",
              "      <td>0.003906</td>\n",
              "      <td>0.017578</td>\n",
              "      <td>0.015625</td>\n",
              "      <td>0.003906</td>\n",
              "      <td>0.007812</td>\n",
              "      <td>0.003906</td>\n",
              "      <td>0.029297</td>\n",
              "      <td>0.005859</td>\n",
              "      <td>0.031250</td>\n",
              "    </tr>\n",
              "  </tbody>\n",
              "</table>\n",
              "<p>1600 rows × 65 columns</p>\n",
              "</div>\n",
              "    <div class=\"colab-df-buttons\">\n",
              "\n",
              "  <div class=\"colab-df-container\">\n",
              "    <button class=\"colab-df-convert\" onclick=\"convertToInteractive('df-4531aa2c-f701-44b5-969e-4929d839449f')\"\n",
              "            title=\"Convert this dataframe to an interactive table.\"\n",
              "            style=\"display:none;\">\n",
              "\n",
              "  <svg xmlns=\"http://www.w3.org/2000/svg\" height=\"24px\" viewBox=\"0 -960 960 960\">\n",
              "    <path d=\"M120-120v-720h720v720H120Zm60-500h600v-160H180v160Zm220 220h160v-160H400v160Zm0 220h160v-160H400v160ZM180-400h160v-160H180v160Zm440 0h160v-160H620v160ZM180-180h160v-160H180v160Zm440 0h160v-160H620v160Z\"/>\n",
              "  </svg>\n",
              "    </button>\n",
              "\n",
              "  <style>\n",
              "    .colab-df-container {\n",
              "      display:flex;\n",
              "      gap: 12px;\n",
              "    }\n",
              "\n",
              "    .colab-df-convert {\n",
              "      background-color: #E8F0FE;\n",
              "      border: none;\n",
              "      border-radius: 50%;\n",
              "      cursor: pointer;\n",
              "      display: none;\n",
              "      fill: #1967D2;\n",
              "      height: 32px;\n",
              "      padding: 0 0 0 0;\n",
              "      width: 32px;\n",
              "    }\n",
              "\n",
              "    .colab-df-convert:hover {\n",
              "      background-color: #E2EBFA;\n",
              "      box-shadow: 0px 1px 2px rgba(60, 64, 67, 0.3), 0px 1px 3px 1px rgba(60, 64, 67, 0.15);\n",
              "      fill: #174EA6;\n",
              "    }\n",
              "\n",
              "    .colab-df-buttons div {\n",
              "      margin-bottom: 4px;\n",
              "    }\n",
              "\n",
              "    [theme=dark] .colab-df-convert {\n",
              "      background-color: #3B4455;\n",
              "      fill: #D2E3FC;\n",
              "    }\n",
              "\n",
              "    [theme=dark] .colab-df-convert:hover {\n",
              "      background-color: #434B5C;\n",
              "      box-shadow: 0px 1px 3px 1px rgba(0, 0, 0, 0.15);\n",
              "      filter: drop-shadow(0px 1px 2px rgba(0, 0, 0, 0.3));\n",
              "      fill: #FFFFFF;\n",
              "    }\n",
              "  </style>\n",
              "\n",
              "    <script>\n",
              "      const buttonEl =\n",
              "        document.querySelector('#df-4531aa2c-f701-44b5-969e-4929d839449f button.colab-df-convert');\n",
              "      buttonEl.style.display =\n",
              "        google.colab.kernel.accessAllowed ? 'block' : 'none';\n",
              "\n",
              "      async function convertToInteractive(key) {\n",
              "        const element = document.querySelector('#df-4531aa2c-f701-44b5-969e-4929d839449f');\n",
              "        const dataTable =\n",
              "          await google.colab.kernel.invokeFunction('convertToInteractive',\n",
              "                                                    [key], {});\n",
              "        if (!dataTable) return;\n",
              "\n",
              "        const docLinkHtml = 'Like what you see? Visit the ' +\n",
              "          '<a target=\"_blank\" href=https://colab.research.google.com/notebooks/data_table.ipynb>data table notebook</a>'\n",
              "          + ' to learn more about interactive tables.';\n",
              "        element.innerHTML = '';\n",
              "        dataTable['output_type'] = 'display_data';\n",
              "        await google.colab.output.renderOutput(dataTable, element);\n",
              "        const docLink = document.createElement('div');\n",
              "        docLink.innerHTML = docLinkHtml;\n",
              "        element.appendChild(docLink);\n",
              "      }\n",
              "    </script>\n",
              "  </div>\n",
              "\n",
              "\n",
              "<div id=\"df-c0bd1040-1300-4de7-8eb2-5a03ea47746e\">\n",
              "  <button class=\"colab-df-quickchart\" onclick=\"quickchart('df-c0bd1040-1300-4de7-8eb2-5a03ea47746e')\"\n",
              "            title=\"Suggest charts\"\n",
              "            style=\"display:none;\">\n",
              "\n",
              "<svg xmlns=\"http://www.w3.org/2000/svg\" height=\"24px\"viewBox=\"0 0 24 24\"\n",
              "     width=\"24px\">\n",
              "    <g>\n",
              "        <path d=\"M19 3H5c-1.1 0-2 .9-2 2v14c0 1.1.9 2 2 2h14c1.1 0 2-.9 2-2V5c0-1.1-.9-2-2-2zM9 17H7v-7h2v7zm4 0h-2V7h2v10zm4 0h-2v-4h2v4z\"/>\n",
              "    </g>\n",
              "</svg>\n",
              "  </button>\n",
              "\n",
              "<style>\n",
              "  .colab-df-quickchart {\n",
              "      --bg-color: #E8F0FE;\n",
              "      --fill-color: #1967D2;\n",
              "      --hover-bg-color: #E2EBFA;\n",
              "      --hover-fill-color: #174EA6;\n",
              "      --disabled-fill-color: #AAA;\n",
              "      --disabled-bg-color: #DDD;\n",
              "  }\n",
              "\n",
              "  [theme=dark] .colab-df-quickchart {\n",
              "      --bg-color: #3B4455;\n",
              "      --fill-color: #D2E3FC;\n",
              "      --hover-bg-color: #434B5C;\n",
              "      --hover-fill-color: #FFFFFF;\n",
              "      --disabled-bg-color: #3B4455;\n",
              "      --disabled-fill-color: #666;\n",
              "  }\n",
              "\n",
              "  .colab-df-quickchart {\n",
              "    background-color: var(--bg-color);\n",
              "    border: none;\n",
              "    border-radius: 50%;\n",
              "    cursor: pointer;\n",
              "    display: none;\n",
              "    fill: var(--fill-color);\n",
              "    height: 32px;\n",
              "    padding: 0;\n",
              "    width: 32px;\n",
              "  }\n",
              "\n",
              "  .colab-df-quickchart:hover {\n",
              "    background-color: var(--hover-bg-color);\n",
              "    box-shadow: 0 1px 2px rgba(60, 64, 67, 0.3), 0 1px 3px 1px rgba(60, 64, 67, 0.15);\n",
              "    fill: var(--button-hover-fill-color);\n",
              "  }\n",
              "\n",
              "  .colab-df-quickchart-complete:disabled,\n",
              "  .colab-df-quickchart-complete:disabled:hover {\n",
              "    background-color: var(--disabled-bg-color);\n",
              "    fill: var(--disabled-fill-color);\n",
              "    box-shadow: none;\n",
              "  }\n",
              "\n",
              "  .colab-df-spinner {\n",
              "    border: 2px solid var(--fill-color);\n",
              "    border-color: transparent;\n",
              "    border-bottom-color: var(--fill-color);\n",
              "    animation:\n",
              "      spin 1s steps(1) infinite;\n",
              "  }\n",
              "\n",
              "  @keyframes spin {\n",
              "    0% {\n",
              "      border-color: transparent;\n",
              "      border-bottom-color: var(--fill-color);\n",
              "      border-left-color: var(--fill-color);\n",
              "    }\n",
              "    20% {\n",
              "      border-color: transparent;\n",
              "      border-left-color: var(--fill-color);\n",
              "      border-top-color: var(--fill-color);\n",
              "    }\n",
              "    30% {\n",
              "      border-color: transparent;\n",
              "      border-left-color: var(--fill-color);\n",
              "      border-top-color: var(--fill-color);\n",
              "      border-right-color: var(--fill-color);\n",
              "    }\n",
              "    40% {\n",
              "      border-color: transparent;\n",
              "      border-right-color: var(--fill-color);\n",
              "      border-top-color: var(--fill-color);\n",
              "    }\n",
              "    60% {\n",
              "      border-color: transparent;\n",
              "      border-right-color: var(--fill-color);\n",
              "    }\n",
              "    80% {\n",
              "      border-color: transparent;\n",
              "      border-right-color: var(--fill-color);\n",
              "      border-bottom-color: var(--fill-color);\n",
              "    }\n",
              "    90% {\n",
              "      border-color: transparent;\n",
              "      border-bottom-color: var(--fill-color);\n",
              "    }\n",
              "  }\n",
              "</style>\n",
              "\n",
              "  <script>\n",
              "    async function quickchart(key) {\n",
              "      const quickchartButtonEl =\n",
              "        document.querySelector('#' + key + ' button');\n",
              "      quickchartButtonEl.disabled = true;  // To prevent multiple clicks.\n",
              "      quickchartButtonEl.classList.add('colab-df-spinner');\n",
              "      try {\n",
              "        const charts = await google.colab.kernel.invokeFunction(\n",
              "            'suggestCharts', [key], {});\n",
              "      } catch (error) {\n",
              "        console.error('Error during call to suggestCharts:', error);\n",
              "      }\n",
              "      quickchartButtonEl.classList.remove('colab-df-spinner');\n",
              "      quickchartButtonEl.classList.add('colab-df-quickchart-complete');\n",
              "    }\n",
              "    (() => {\n",
              "      let quickchartButtonEl =\n",
              "        document.querySelector('#df-c0bd1040-1300-4de7-8eb2-5a03ea47746e button');\n",
              "      quickchartButtonEl.style.display =\n",
              "        google.colab.kernel.accessAllowed ? 'block' : 'none';\n",
              "    })();\n",
              "  </script>\n",
              "</div>\n",
              "\n",
              "  <div id=\"id_6be79275-e115-42a6-9474-3728f448f9d9\">\n",
              "    <style>\n",
              "      .colab-df-generate {\n",
              "        background-color: #E8F0FE;\n",
              "        border: none;\n",
              "        border-radius: 50%;\n",
              "        cursor: pointer;\n",
              "        display: none;\n",
              "        fill: #1967D2;\n",
              "        height: 32px;\n",
              "        padding: 0 0 0 0;\n",
              "        width: 32px;\n",
              "      }\n",
              "\n",
              "      .colab-df-generate:hover {\n",
              "        background-color: #E2EBFA;\n",
              "        box-shadow: 0px 1px 2px rgba(60, 64, 67, 0.3), 0px 1px 3px 1px rgba(60, 64, 67, 0.15);\n",
              "        fill: #174EA6;\n",
              "      }\n",
              "\n",
              "      [theme=dark] .colab-df-generate {\n",
              "        background-color: #3B4455;\n",
              "        fill: #D2E3FC;\n",
              "      }\n",
              "\n",
              "      [theme=dark] .colab-df-generate:hover {\n",
              "        background-color: #434B5C;\n",
              "        box-shadow: 0px 1px 3px 1px rgba(0, 0, 0, 0.15);\n",
              "        filter: drop-shadow(0px 1px 2px rgba(0, 0, 0, 0.3));\n",
              "        fill: #FFFFFF;\n",
              "      }\n",
              "    </style>\n",
              "    <button class=\"colab-df-generate\" onclick=\"generateWithVariable('data')\"\n",
              "            title=\"Generate code using this dataframe.\"\n",
              "            style=\"display:none;\">\n",
              "\n",
              "  <svg xmlns=\"http://www.w3.org/2000/svg\" height=\"24px\"viewBox=\"0 0 24 24\"\n",
              "       width=\"24px\">\n",
              "    <path d=\"M7,19H8.4L18.45,9,17,7.55,7,17.6ZM5,21V16.75L18.45,3.32a2,2,0,0,1,2.83,0l1.4,1.43a1.91,1.91,0,0,1,.58,1.4,1.91,1.91,0,0,1-.58,1.4L9.25,21ZM18.45,9,17,7.55Zm-12,3A5.31,5.31,0,0,0,4.9,8.1,5.31,5.31,0,0,0,1,6.5,5.31,5.31,0,0,0,4.9,4.9,5.31,5.31,0,0,0,6.5,1,5.31,5.31,0,0,0,8.1,4.9,5.31,5.31,0,0,0,12,6.5,5.46,5.46,0,0,0,6.5,12Z\"/>\n",
              "  </svg>\n",
              "    </button>\n",
              "    <script>\n",
              "      (() => {\n",
              "      const buttonEl =\n",
              "        document.querySelector('#id_6be79275-e115-42a6-9474-3728f448f9d9 button.colab-df-generate');\n",
              "      buttonEl.style.display =\n",
              "        google.colab.kernel.accessAllowed ? 'block' : 'none';\n",
              "\n",
              "      buttonEl.onclick = () => {\n",
              "        google.colab.notebook.generateWithVariable('data');\n",
              "      }\n",
              "      })();\n",
              "    </script>\n",
              "  </div>\n",
              "\n",
              "    </div>\n",
              "  </div>\n"
            ],
            "application/vnd.google.colaboratory.intrinsic+json": {
              "type": "dataframe",
              "variable_name": "data"
            }
          },
          "metadata": {},
          "execution_count": 4
        }
      ]
    },
    {
      "cell_type": "markdown",
      "metadata": {
        "id": "XbfwGI1DLde-"
      },
      "source": [
        "\n",
        "Первый столбец - ответ, положим его в отдельную переменную."
      ]
    },
    {
      "cell_type": "code",
      "metadata": {
        "id": "9odhGSeDLZ7Z"
      },
      "source": [
        "X, y_name = np.array(data.iloc[:, 1:]), data.iloc[:, 0]"
      ],
      "execution_count": null,
      "outputs": []
    },
    {
      "cell_type": "markdown",
      "metadata": {
        "id": "tQkOp6aaLjkM"
      },
      "source": [
        "Целевая переменная принимает текстовое значение. С помощью `LabelEncoder` из `sklearn` закодируй тектовую переменную `y_name` и сохраните полученные значения в переменную `y`."
      ]
    },
    {
      "cell_type": "code",
      "metadata": {
        "id": "d3lpnP_cLf7R"
      },
      "source": [
        "from sklearn.preprocessing import LabelEncoder\n",
        "le = LabelEncoder()\n",
        "\n",
        "y_name = le.fit_transform(y_name)"
      ],
      "execution_count": null,
      "outputs": []
    },
    {
      "cell_type": "markdown",
      "metadata": {
        "id": "_VUAb6X5L22Y"
      },
      "source": [
        "С помощью метода главных компонент снизьте размерность признакового пространства до двух. Зафиксируйте `random_state=0`"
      ]
    },
    {
      "cell_type": "code",
      "metadata": {
        "id": "-swp11CwL4m9"
      },
      "source": [
        "from sklearn.decomposition import PCA\n",
        "\n",
        "pca = PCA(n_components=2, random_state = 0)\n",
        "\n"
      ],
      "execution_count": null,
      "outputs": []
    },
    {
      "cell_type": "code",
      "source": [
        "objcts_2d = pca.fit_transform(X)"
      ],
      "metadata": {
        "id": "E8bluj-88tjO"
      },
      "execution_count": null,
      "outputs": []
    },
    {
      "cell_type": "code",
      "source": [
        "objcts_2d"
      ],
      "metadata": {
        "colab": {
          "base_uri": "https://localhost:8080/"
        },
        "id": "glyHW5M1AKbA",
        "outputId": "1dbef77c-efbd-4b49-e9f3-cc8c4816b41c"
      },
      "execution_count": null,
      "outputs": [
        {
          "output_type": "execute_result",
          "data": {
            "text/plain": [
              "array([[-0.03307489,  0.02892331],\n",
              "       [-0.02422727,  0.01839179],\n",
              "       [-0.02629431,  0.03441262],\n",
              "       ...,\n",
              "       [-0.06300588, -0.05859334],\n",
              "       [-0.03770296, -0.05299064],\n",
              "       [-0.03348526, -0.03997298]])"
            ]
          },
          "metadata": {},
          "execution_count": 9
        }
      ]
    },
    {
      "cell_type": "code",
      "source": [
        "non_filtered = np.concatenate([objcts_2d, y_name.reshape(-1,1)], axis = 1)"
      ],
      "metadata": {
        "id": "BPNVLnas_WL1"
      },
      "execution_count": null,
      "outputs": []
    },
    {
      "cell_type": "code",
      "source": [
        "non_filtered"
      ],
      "metadata": {
        "colab": {
          "base_uri": "https://localhost:8080/"
        },
        "id": "d1eV3PLMAP_T",
        "outputId": "9ad58c9d-c039-4bb9-a185-b76d7e2be3b6"
      },
      "execution_count": null,
      "outputs": [
        {
          "output_type": "execute_result",
          "data": {
            "text/plain": [
              "array([[-3.30748904e-02,  2.89233063e-02,  0.00000000e+00],\n",
              "       [-2.42272719e-02,  1.83917931e-02,  0.00000000e+00],\n",
              "       [-2.62943100e-02,  3.44126241e-02,  0.00000000e+00],\n",
              "       ...,\n",
              "       [-6.30058772e-02, -5.85933367e-02,  9.90000000e+01],\n",
              "       [-3.77029604e-02, -5.29906352e-02,  9.90000000e+01],\n",
              "       [-3.34852582e-02, -3.99729817e-02,  9.90000000e+01]])"
            ]
          },
          "metadata": {},
          "execution_count": 11
        }
      ]
    },
    {
      "cell_type": "code",
      "source": [
        "filtered = non_filtered[non_filtered[:, 2] < 15]"
      ],
      "metadata": {
        "id": "VgDPPmsPAR3f"
      },
      "execution_count": null,
      "outputs": []
    },
    {
      "cell_type": "code",
      "source": [
        "filtered.shape"
      ],
      "metadata": {
        "colab": {
          "base_uri": "https://localhost:8080/"
        },
        "id": "y9zryR9sAcso",
        "outputId": "64aef54b-91e3-46b2-cdba-8fe4ddfd80a8"
      },
      "execution_count": null,
      "outputs": [
        {
          "output_type": "execute_result",
          "data": {
            "text/plain": [
              "(240, 3)"
            ]
          },
          "metadata": {},
          "execution_count": 13
        }
      ]
    },
    {
      "cell_type": "code",
      "source": [
        "X_f = filtered[:, :2]"
      ],
      "metadata": {
        "id": "HjPSFvi-Dmzj"
      },
      "execution_count": null,
      "outputs": []
    },
    {
      "cell_type": "markdown",
      "metadata": {
        "id": "mxB7QDkPL9TK"
      },
      "source": [
        "Выберите объекты, которые соответствуют значениям от 0 до 14 целевой переменной `y`. Изобразите выбранные объекты в двумерном пространстве признаков с помощью метода `scatter` из `matplotlib.pyplot`. Чтобы разным цветом отобразить объекты разных классов, в метод `scatter` передайте `c = y[y<15]`."
      ]
    },
    {
      "cell_type": "code",
      "metadata": {
        "id": "bG3APeNYMaKd",
        "colab": {
          "base_uri": "https://localhost:8080/",
          "height": 435
        },
        "outputId": "f7f8e327-e442-4a69-e864-d7676610d36a"
      },
      "source": [
        "import matplotlib.pyplot as plt\n",
        "\n",
        "\n",
        "plt.scatter(X_f[:, 0], X_f[:, 1], c=y_name[y_name < 15])\n",
        "plt.colorbar()\n",
        "plt.show()"
      ],
      "execution_count": null,
      "outputs": [
        {
          "output_type": "display_data",
          "data": {
            "text/plain": [
              "<Figure size 640x480 with 2 Axes>"
            ],
            "image/png": "[encoded data removed]"
          },
          "metadata": {}
        }
      ]
    },
    {
      "cell_type": "markdown",
      "metadata": {
        "id": "r45lDZ-iM9up"
      },
      "source": [
        "Проделайте тоже самое для метода TSNE."
      ]
    },
    {
      "cell_type": "code",
      "metadata": {
        "id": "l_rK6LA6M_qR"
      },
      "source": [
        "from sklearn.manifold import TSNE\n",
        "\n",
        "tsne = TSNE(n_components=2, random_state=0)"
      ],
      "execution_count": null,
      "outputs": []
    },
    {
      "cell_type": "code",
      "source": [
        "objcts_2d_tsne = tsne.fit_transform(X)"
      ],
      "metadata": {
        "id": "NRwx1M2zEWTH"
      },
      "execution_count": null,
      "outputs": []
    },
    {
      "cell_type": "code",
      "source": [
        "non_filtered_2 = np.concatenate([objcts_2d_tsne, y_name.reshape(-1,1)], axis = 1)\n",
        "filtered_2 = non_filtered_2[non_filtered_2[:, 2] < 15]\n",
        "X_f2 = filtered_2[:, :2]"
      ],
      "metadata": {
        "id": "Ukr6BXVtEeLP"
      },
      "execution_count": null,
      "outputs": []
    },
    {
      "cell_type": "code",
      "source": [
        "plt.scatter(X_f2[:, 0], X_f2[:, 1], c=y_name[y_name < 15])\n",
        "plt.colorbar()\n",
        "plt.show()"
      ],
      "metadata": {
        "colab": {
          "base_uri": "https://localhost:8080/",
          "height": 435
        },
        "id": "n752Rg6vEurU",
        "outputId": "c086cb11-7e59-49fb-de6a-d7a30c0c7027"
      },
      "execution_count": null,
      "outputs": [
        {
          "output_type": "display_data",
          "data": {
            "text/plain": [
              "<Figure size 640x480 with 2 Axes>"
            ],
            "image/png": "[encoded data removed]"
          },
          "metadata": {}
        }
      ]
    },
    {
      "cell_type": "markdown",
      "metadata": {
        "id": "g0_Af5sHNUlO"
      },
      "source": [
        "1. Укажите координаты объекта с индексом 0 (`X[0]`) после применения метода TSNE. Округлите числа до сотых."
      ]
    },
    {
      "cell_type": "code",
      "metadata": {
        "id": "I9M5WNlKNjX4",
        "colab": {
          "base_uri": "https://localhost:8080/"
        },
        "outputId": "b99fe080-eddd-4e33-e0a2-7b626f3d6c00"
      },
      "source": [
        "np.around(X_f2[0], 2)"
      ],
      "execution_count": null,
      "outputs": [
        {
          "output_type": "execute_result",
          "data": {
            "text/plain": [
              "array([-7.26, 15.65])"
            ]
          },
          "metadata": {},
          "execution_count": 23
        }
      ]
    },
    {
      "cell_type": "markdown",
      "metadata": {
        "id": "y5A04DVNNnMj"
      },
      "source": [
        "2. Укажите координаты объекта с индексом 0 (X[0]) после применения метода PCA. Округлите числа до сотых."
      ]
    },
    {
      "cell_type": "code",
      "metadata": {
        "id": "VwMXzSezNq4E",
        "colab": {
          "base_uri": "https://localhost:8080/"
        },
        "outputId": "9d2fdbd6-c463-41f5-a2ee-0e1f1f31dcaa"
      },
      "source": [
        "np.around(X_f[0], 2)"
      ],
      "execution_count": null,
      "outputs": [
        {
          "output_type": "execute_result",
          "data": {
            "text/plain": [
              "array([-0.03,  0.03])"
            ]
          },
          "metadata": {},
          "execution_count": 25
        }
      ]
    },
    {
      "cell_type": "markdown",
      "metadata": {
        "id": "OTsEDhIoNt_0"
      },
      "source": [
        "3. Какие выводы можно сделать из полученных изображений?\n",
        "- С мпомощью метода главных компонет удалось визуализировать объекты на плоскоти и объекты разных класов визуально разделимы\n",
        "\n",
        "- **С мпомощью метода TSNE удалось визуализировать объекты на плоскоти и объекты разных класов визуально разделимы**\n",
        "\n",
        "- С мпомощью методов TSNE и PCA удалось визуализировать объекты на плоскоти и объекты разных класов визуально разделимы\n",
        "\n",
        "- С мпомощью методов TSNE и PCA удалось визуализировать объекты на плоскоти и объекты разных класов визуально не разделимы\n"
      ]
    },
    {
      "cell_type": "markdown",
      "metadata": {
        "id": "5bwVle82N2q5"
      },
      "source": [
        "## K_means"
      ]
    },
    {
      "cell_type": "markdown",
      "metadata": {
        "id": "BOKjfTuIN4DT"
      },
      "source": [
        "Реализуйте класс MyKMeans.\n",
        "\n",
        "Класс должен соответствовать шаблону, который приведен ниже\n",
        "\n",
        "В конструктор класса передаются:\n",
        "- n_clusters - число кластеров, на которое будут разбиты данные\n",
        "\n",
        "- n_iters - максимальное число итераций, может быть сделано в данном алгоритме\n",
        "\n",
        "В методе `fit`:\n",
        "\n",
        "- self.centers - центры кластеров, которые пересчитываются на каждой итерации. Изначально выбираются случайным образом с фиксированным seed.\n",
        "\n",
        "далее в цикле по числу итераций вам необходимо реализовать:\n",
        "-  вычисление ближайшего центра кластера для каждого объекта\n",
        "- пересчет центра каждого кластера( среднее каждой из координат всех объектов, отнесенных к этому кластеру)\n",
        "посчитанные новые центры кластеров положите в переменную `new_centers`\n",
        "\n",
        "В методе `predict`:\n",
        "\n",
        "вычисляются ближайшие центры кластеров для объектов `X`\n",
        "\n",
        "\n"
      ]
    },
    {
      "cell_type": "code",
      "metadata": {
        "id": "CjdGMH6wNuaM"
      },
      "source": [
        "from sklearn.metrics import pairwise_distances_argmin\n",
        "class MyKMeans():\n",
        "  def __init__(self, n_clusters=3, n_iters = 100):\n",
        "    self.n_clusters = n_clusters\n",
        "    self.n_iters = n_iters\n",
        "    self.n_iter_ = 0\n",
        "\n",
        "  def fit(self, X):\n",
        "    np.random.seed(0)\n",
        "    self.centers = np.random.uniform(low=X.min(axis = 0),\n",
        "                                high=X.max(axis = 0),\n",
        "                                size=(self.n_clusters, X.shape[1]))\n",
        "\n",
        "    for it in range(self.n_iters):\n",
        "      labels = pairwise_distances_argmin(X, self.centers)\n",
        "      new_centers = np.array([X[labels == i].mean(axis=0) for i in range(self.n_clusters)])\n",
        "\n",
        "      if np.all(self.centers == new_centers):\n",
        "          break\n",
        "      self.n_iter_ += 1\n",
        "\n",
        "      self.centers = new_centers\n",
        "\n",
        "\n",
        "  def predict(self, X):\n",
        "    labels = pairwise_distances_argmin(X, self.centers)\n",
        "    return labels"
      ],
      "execution_count": null,
      "outputs": []
    },
    {
      "cell_type": "markdown",
      "metadata": {
        "id": "-CHFE6_jS2z9"
      },
      "source": [
        "Сгенерируем данные для кластеризации"
      ]
    },
    {
      "cell_type": "code",
      "metadata": {
        "id": "fZB9RQ1vS1-n"
      },
      "source": [
        "from sklearn import datasets\n",
        "n_samples = 1000\n",
        "\n",
        "noisy_blobs = datasets.make_blobs(n_samples=n_samples,\n",
        "                             cluster_std=[1.0, 3.0, 0.5],\n",
        "                             random_state=0)"
      ],
      "execution_count": null,
      "outputs": []
    },
    {
      "cell_type": "code",
      "metadata": {
        "id": "wQN-2l2eS8Qq"
      },
      "source": [
        "X, y = noisy_blobs"
      ],
      "execution_count": null,
      "outputs": []
    },
    {
      "cell_type": "markdown",
      "metadata": {
        "id": "AUi15fgNTBmu"
      },
      "source": [
        "4. Кластеризуйте объекты noisy_blobs с помощью `MyKMeans`, используйте гиперпараметры `n_clusters=3`, `n_iters=100`. Укажите ответ для объекта с индексом 1."
      ]
    },
    {
      "cell_type": "code",
      "metadata": {
        "id": "VJlQezHTS83L"
      },
      "source": [
        "mkm = MyKMeans(n_clusters = 3, n_iters = 100)\n",
        "mkm.fit(X)"
      ],
      "execution_count": null,
      "outputs": []
    },
    {
      "cell_type": "code",
      "source": [
        "y_pred1 = mkm.predict(X)"
      ],
      "metadata": {
        "id": "NXzNpelYdKVA"
      },
      "execution_count": null,
      "outputs": []
    },
    {
      "cell_type": "code",
      "source": [
        "y_pred1[1]"
      ],
      "metadata": {
        "colab": {
          "base_uri": "https://localhost:8080/"
        },
        "id": "ya7PPL0PdOIp",
        "outputId": "37269df9-1735-4d9a-e634-97d9f178f196"
      },
      "execution_count": null,
      "outputs": [
        {
          "output_type": "execute_result",
          "data": {
            "text/plain": [
              "0"
            ]
          },
          "metadata": {},
          "execution_count": 70
        }
      ]
    },
    {
      "cell_type": "markdown",
      "metadata": {
        "id": "joULp7G4TM6X"
      },
      "source": [
        "5. Кластеризуйте объекты noisy_blobs, используйте гиперпараметры n_clusters=3, n_iters = 5. Укажите ответ для объекта с индексом 1."
      ]
    },
    {
      "cell_type": "code",
      "metadata": {
        "id": "7jRbT4iWTPo_"
      },
      "source": [
        "mkm2 = MyKMeans(n_clusters = 3, n_iters = 5)\n",
        "mkm2.fit(X)\n",
        "y_pred2 = mkm2.predict(X)"
      ],
      "execution_count": null,
      "outputs": []
    },
    {
      "cell_type": "code",
      "source": [
        "y_pred2[1]"
      ],
      "metadata": {
        "colab": {
          "base_uri": "https://localhost:8080/"
        },
        "id": "jEqUqH0-eOoN",
        "outputId": "61b9bc1d-3e06-49f4-b7e3-6ead4aa6857e"
      },
      "execution_count": null,
      "outputs": [
        {
          "output_type": "execute_result",
          "data": {
            "text/plain": [
              "0"
            ]
          },
          "metadata": {},
          "execution_count": 72
        }
      ]
    },
    {
      "cell_type": "markdown",
      "metadata": {
        "id": "p7AXLyE7TStG"
      },
      "source": [
        "6. Вычислите у какого числа объектов изменилась метка предсказываемого кластера при изменении гиперпараметра n_iters с 5 до 100"
      ]
    },
    {
      "cell_type": "code",
      "metadata": {
        "id": "nhAkY7U3Tbv4",
        "colab": {
          "base_uri": "https://localhost:8080/"
        },
        "outputId": "54f3e658-034d-4b50-85eb-be1c7a505929"
      },
      "source": [
        "num_changed_labels = np.sum(y_pred1 != y_pred2)\n",
        "num_changed_labels"
      ],
      "execution_count": null,
      "outputs": [
        {
          "output_type": "execute_result",
          "data": {
            "text/plain": [
              "17"
            ]
          },
          "metadata": {},
          "execution_count": 75
        }
      ]
    },
    {
      "cell_type": "markdown",
      "metadata": {
        "id": "X2m3cpRsTb8f"
      },
      "source": [
        "7. Определите сколько за сколько итераций сошелся алгоритм на объектах объекты noisy_blobs?"
      ]
    },
    {
      "cell_type": "code",
      "metadata": {
        "id": "2pfPsKRxTc4r",
        "colab": {
          "base_uri": "https://localhost:8080/"
        },
        "outputId": "2e2aeeaa-d335-4331-e184-0829525f1612"
      },
      "source": [
        "mkm.n_iter_"
      ],
      "execution_count": null,
      "outputs": [
        {
          "output_type": "execute_result",
          "data": {
            "text/plain": [
              "10"
            ]
          },
          "metadata": {},
          "execution_count": 74
        }
      ]
    },
    {
      "cell_type": "markdown",
      "metadata": {
        "id": "rl2LmchQTh6M"
      },
      "source": [
        "## DBSCAN"
      ]
    },
    {
      "cell_type": "markdown",
      "metadata": {
        "id": "N-XaywRJToyT"
      },
      "source": [
        "8. Кластеризуйте объекты noisy_blobs с помощью DBSCAN. Используйте реализацию DBSCAN из sklearn. Зафиксируйте гиперпараметр eps=0.5. Укажите ответ для объекта с индексом 1."
      ]
    },
    {
      "cell_type": "code",
      "metadata": {
        "id": "mSvhyVXZTjR5"
      },
      "source": [
        "from sklearn.cluster import DBSCAN\n",
        "\n",
        "db = DBSCAN(eps = 0.5)\n",
        "\n",
        "y_predD = db.fit_predict(X)"
      ],
      "execution_count": null,
      "outputs": []
    },
    {
      "cell_type": "code",
      "source": [
        "y_predD[1]"
      ],
      "metadata": {
        "colab": {
          "base_uri": "https://localhost:8080/"
        },
        "id": "sa_VoRBEiiUS",
        "outputId": "514300d6-2945-461b-beb1-aebcd5eea999"
      },
      "execution_count": null,
      "outputs": [
        {
          "output_type": "execute_result",
          "data": {
            "text/plain": [
              "0"
            ]
          },
          "metadata": {},
          "execution_count": 53
        }
      ]
    },
    {
      "cell_type": "markdown",
      "metadata": {
        "id": "N8tEMGZ5T4xY"
      },
      "source": [
        "9. Укажите полученное число кластеров?"
      ]
    },
    {
      "cell_type": "code",
      "metadata": {
        "id": "gWI0bFZWT6qR",
        "colab": {
          "base_uri": "https://localhost:8080/"
        },
        "outputId": "b31a68a6-df60-4c24-95bc-33ae57d58d90"
      },
      "source": [
        "np.unique(y_predD)"
      ],
      "execution_count": null,
      "outputs": [
        {
          "output_type": "execute_result",
          "data": {
            "text/plain": [
              "array([-1,  0,  1,  2,  3,  4,  5,  6,  7,  8,  9, 10])"
            ]
          },
          "metadata": {},
          "execution_count": 55
        }
      ]
    },
    {
      "cell_type": "markdown",
      "metadata": {
        "id": "XgF0L6EBT9no"
      },
      "source": [
        "10. Сколько объектов было отнечено к выбросам (имеют метку -1)?"
      ]
    },
    {
      "cell_type": "code",
      "metadata": {
        "id": "qTRp17L8T-Lh",
        "colab": {
          "base_uri": "https://localhost:8080/"
        },
        "outputId": "5b91b781-2bc9-47b5-8027-01f224451eaf"
      },
      "source": [
        "n_outliers = np.sum(y_predD == -1)\n",
        "n_outliers"
      ],
      "execution_count": null,
      "outputs": [
        {
          "output_type": "execute_result",
          "data": {
            "text/plain": [
              "152"
            ]
          },
          "metadata": {},
          "execution_count": 64
        }
      ]
    }
  ]
}